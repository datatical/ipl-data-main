{
 "cells": [
  {
   "cell_type": "markdown",
   "id": "adbddb7d",
   "metadata": {},
   "source": [
    "# Question 1"
   ]
  },
  {
   "cell_type": "code",
   "execution_count": 1,
   "id": "e540b93e",
   "metadata": {},
   "outputs": [
    {
     "name": "stdout",
     "output_type": "stream",
     "text": [
      "Total number of matches conducted in the year 2008: 58\n"
     ]
    }
   ],
   "source": [
    "import pandas as pd\n",
    "\n",
    "# Read the CSV file into a DataFrame\n",
    "df = pd.read_csv('matches.csv')\n",
    "\n",
    "# Filter the DataFrame to include only matches played in the year 2008\n",
    "matches_2008 = df[df['season'] == 2008]\n",
    "\n",
    "# Get the count of matches played in the year 2008\n",
    "total_matches_2008 = matches_2008.shape[0]\n",
    "\n",
    "print(\"Total number of matches conducted in the year 2008:\", total_matches_2008)"
   ]
  },
  {
   "cell_type": "markdown",
   "id": "a9147eea",
   "metadata": {},
   "source": [
    "# Question 2"
   ]
  },
  {
   "cell_type": "code",
   "execution_count": 3,
   "id": "f66a501b",
   "metadata": {},
   "outputs": [
    {
     "name": "stdout",
     "output_type": "stream",
     "text": [
      "City with maximum number of matches: Mumbai\n",
      "City with minimum number of matches: Bloemfontein\n"
     ]
    }
   ],
   "source": [
    "import pandas as pd\n",
    "\n",
    "# Read the CSV file into a DataFrame\n",
    "df = pd.read_csv('matches.csv')\n",
    "\n",
    "# Get the value counts of cities where matches were conducted\n",
    "city_counts = df['city'].value_counts()\n",
    "\n",
    "# Get the city with the maximum number of matches\n",
    "city_with_max_matches = city_counts.index[0]\n",
    "\n",
    "# Get the city with the minimum number of matches\n",
    "city_with_min_matches = city_counts.index[-1]\n",
    "\n",
    "print(\"City with maximum number of matches:\", city_with_max_matches)\n",
    "print(\"City with minimum number of matches:\", city_with_min_matches)"
   ]
  },
  {
   "cell_type": "markdown",
   "id": "0de42fd4",
   "metadata": {},
   "source": [
    "# Question 3"
   ]
  },
  {
   "cell_type": "code",
   "execution_count": 5,
   "id": "7d216b31",
   "metadata": {},
   "outputs": [
    {
     "name": "stdout",
     "output_type": "stream",
     "text": [
      "Total count of matches city-wise:\n",
      " city\n",
      "Abu Dhabi           7\n",
      "Ahmedabad          12\n",
      "Bangalore          66\n",
      "Bengaluru          14\n",
      "Bloemfontein        2\n",
      "Cape Town           7\n",
      "Centurion          12\n",
      "Chandigarh         46\n",
      "Chennai            57\n",
      "Cuttack             7\n",
      "Delhi              74\n",
      "Dharamsala          9\n",
      "Durban             15\n",
      "East London         3\n",
      "Hyderabad          64\n",
      "Indore              9\n",
      "Jaipur             47\n",
      "Johannesburg        8\n",
      "Kanpur              4\n",
      "Kimberley           3\n",
      "Kochi               5\n",
      "Kolkata            77\n",
      "Mohali             10\n",
      "Mumbai            101\n",
      "Nagpur              3\n",
      "Port Elizabeth      7\n",
      "Pune               38\n",
      "Raipur              6\n",
      "Rajkot             10\n",
      "Ranchi              7\n",
      "Sharjah             6\n",
      "Visakhapatnam      13\n",
      "Name: id, dtype: int64\n"
     ]
    }
   ],
   "source": [
    "import pandas as pd\n",
    "\n",
    "# Read the CSV file into a DataFrame\n",
    "df = pd.read_csv('matches.csv')\n",
    "\n",
    "# Group the DataFrame by city and get the count of matches in each city\n",
    "matches_citywise = df.groupby('city')['id'].count()\n",
    "\n",
    "print(\"Total count of matches city-wise:\\n\", matches_citywise)"
   ]
  },
  {
   "cell_type": "markdown",
   "id": "5bac7495",
   "metadata": {},
   "source": [
    "# Question 4"
   ]
  },
  {
   "cell_type": "code",
   "execution_count": 6,
   "id": "f468103f",
   "metadata": {},
   "outputs": [
    {
     "name": "stdout",
     "output_type": "stream",
     "text": [
      "Team with maximum toss wins: Mumbai Indians\n",
      "Team with minimum toss wins: Rising Pune Supergiant\n"
     ]
    }
   ],
   "source": [
    "import pandas as pd\n",
    "\n",
    "# Read the CSV file into a DataFrame\n",
    "df = pd.read_csv('matches.csv')\n",
    "\n",
    "# Get the value counts of toss winners\n",
    "toss_winner_counts = df['toss_winner'].value_counts()\n",
    "\n",
    "# Get the team with the maximum number of toss wins\n",
    "team_with_max_toss_wins = toss_winner_counts.index[0]\n",
    "\n",
    "# Get the team with the minimum number of toss wins\n",
    "team_with_min_toss_wins = toss_winner_counts.index[-1]\n",
    "\n",
    "print(\"Team with maximum toss wins:\", team_with_max_toss_wins)\n",
    "print(\"Team with minimum toss wins:\", team_with_min_toss_wins)\n"
   ]
  },
  {
   "cell_type": "markdown",
   "id": "d63988a2",
   "metadata": {},
   "source": [
    "# Question 5"
   ]
  },
  {
   "cell_type": "code",
   "execution_count": 8,
   "id": "b9483e93",
   "metadata": {},
   "outputs": [
    {
     "name": "stdout",
     "output_type": "stream",
     "text": [
      "Toss decision count by team:\n",
      " team1                        toss_decision\n",
      "Chennai Super Kings          bat              48\n",
      "                             field            41\n",
      "Deccan Chargers              bat              24\n",
      "                             field            19\n",
      "Delhi Capitals               bat               2\n",
      "                             field             4\n",
      "Delhi Daredevils             bat              29\n",
      "                             field            43\n",
      "Gujarat Lions                bat               1\n",
      "                             field            13\n",
      "Kings XI Punjab              bat              26\n",
      "                             field            65\n",
      "Kochi Tuskers Kerala         bat               3\n",
      "                             field             4\n",
      "Kolkata Knight Riders        bat              30\n",
      "                             field            53\n",
      "Mumbai Indians               bat              44\n",
      "                             field            57\n",
      "Pune Warriors                bat              11\n",
      "                             field             9\n",
      "Rajasthan Royals             bat              32\n",
      "                             field            35\n",
      "Rising Pune Supergiant       field             8\n",
      "Rising Pune Supergiants      bat               3\n",
      "                             field             4\n",
      "Royal Challengers Bangalore  bat              20\n",
      "                             field            65\n",
      "Sunrisers Hyderabad          bat              20\n",
      "                             field            43\n",
      "Name: id, dtype: int64\n"
     ]
    }
   ],
   "source": [
    "import pandas as pd\n",
    "\n",
    "# Read the CSV file into a DataFrame\n",
    "df = pd.read_csv('matches.csv')\n",
    "\n",
    "# Group the DataFrame by team and toss decision and get the count of each\n",
    "toss_decision_counts = df.groupby(['team1', 'toss_decision'])['id'].count()\n",
    "\n",
    "print(\"Toss decision count by team:\\n\", toss_decision_counts)\n"
   ]
  },
  {
   "cell_type": "markdown",
   "id": "cd1b0d19",
   "metadata": {},
   "source": [
    "# Question 6"
   ]
  },
  {
   "cell_type": "code",
   "execution_count": 9,
   "id": "bd955018",
   "metadata": {},
   "outputs": [
    {
     "name": "stdout",
     "output_type": "stream",
     "text": [
      "Total number of normal matches: 743\n",
      "Total number of tie matches: 9\n"
     ]
    }
   ],
   "source": [
    "import pandas as pd\n",
    "\n",
    "# Read the CSV file into a DataFrame\n",
    "df = pd.read_csv('matches.csv')\n",
    "\n",
    "# Get the count of normal matches\n",
    "normal_matches = df[df['result'] == 'normal'].shape[0]\n",
    "\n",
    "# Get the count of tie matches\n",
    "tie_matches = df[df['result'] == 'tie'].shape[0]\n",
    "\n",
    "print(\"Total number of normal matches:\", normal_matches)\n",
    "print(\"Total number of tie matches:\", tie_matches)\n"
   ]
  },
  {
   "cell_type": "markdown",
   "id": "8ffaf275",
   "metadata": {},
   "source": [
    "# Question 7 (doubt)"
   ]
  },
  {
   "cell_type": "code",
   "execution_count": 11,
   "id": "e30abf99",
   "metadata": {},
   "outputs": [
    {
     "ename": "NameError",
     "evalue": "name 'concat' is not defined",
     "output_type": "error",
     "traceback": [
      "\u001b[1;31m---------------------------------------------------------------------------\u001b[0m",
      "\u001b[1;31mNameError\u001b[0m                                 Traceback (most recent call last)",
      "\u001b[1;32m~\\AppData\\Local\\Temp\\ipykernel_21660\\4219338554.py\u001b[0m in \u001b[0;36m<module>\u001b[1;34m\u001b[0m\n\u001b[0;32m      8\u001b[0m \u001b[1;33m\u001b[0m\u001b[0m\n\u001b[0;32m      9\u001b[0m \u001b[1;31m# Get the team names from those rows\u001b[0m\u001b[1;33m\u001b[0m\u001b[1;33m\u001b[0m\u001b[0m\n\u001b[1;32m---> 10\u001b[1;33m \u001b[0mteam_names_tie\u001b[0m \u001b[1;33m=\u001b[0m \u001b[0mconcat\u001b[0m\u001b[1;33m(\u001b[0m\u001b[1;33m(\u001b[0m\u001b[0mtie_matches\u001b[0m\u001b[1;33m[\u001b[0m\u001b[1;34m'team1'\u001b[0m\u001b[1;33m]\u001b[0m\u001b[1;33m)\u001b[0m\u001b[1;33m,\u001b[0m\u001b[1;33m(\u001b[0m\u001b[0mtie_matches\u001b[0m\u001b[1;33m[\u001b[0m\u001b[1;34m'team2'\u001b[0m\u001b[1;33m]\u001b[0m\u001b[1;33m)\u001b[0m\u001b[1;33m)\u001b[0m\u001b[1;33m\u001b[0m\u001b[1;33m\u001b[0m\u001b[0m\n\u001b[0m\u001b[0;32m     11\u001b[0m \u001b[1;33m\u001b[0m\u001b[0m\n\u001b[0;32m     12\u001b[0m \u001b[0mprint\u001b[0m\u001b[1;33m(\u001b[0m\u001b[1;34m\"Team names where the match result is a tie:\"\u001b[0m\u001b[1;33m,\u001b[0m \u001b[0mteam_names_tie\u001b[0m\u001b[1;33m)\u001b[0m\u001b[1;33m\u001b[0m\u001b[1;33m\u001b[0m\u001b[0m\n",
      "\u001b[1;31mNameError\u001b[0m: name 'concat' is not defined"
     ]
    }
   ],
   "source": [
    "import pandas as pd\n",
    "\n",
    "# Read the CSV file into a DataFrame\n",
    "df = pd.read_csv('matches.csv')\n",
    "\n",
    "# Get the rows where the match result is a tie\n",
    "tie_matches = df[df['result'] == 'tie']\n",
    "\n",
    "# Get the team names from those rows\n",
    "team_names_tie = (tie_matches['team1'])(tie_matches['team2'])\n",
    "\n",
    "print(\"Team names where the match result is a tie:\", team_names_tie)"
   ]
  },
  {
   "cell_type": "markdown",
   "id": "e95d7ddc",
   "metadata": {},
   "source": [
    "# Question 8"
   ]
  },
  {
   "cell_type": "code",
   "execution_count": 12,
   "id": "14d91250",
   "metadata": {},
   "outputs": [
    {
     "name": "stdout",
     "output_type": "stream",
     "text": [
      "Team name who won the match by the highest runs: Mumbai Indians\n"
     ]
    }
   ],
   "source": [
    "import pandas as pd\n",
    "\n",
    "# Read the CSV file into a DataFrame\n",
    "df = pd.read_csv('matches.csv')\n",
    "\n",
    "# Get the row with the highest win by runs\n",
    "max_runs_row = df.iloc[df['win_by_runs'].idxmax()]\n",
    "\n",
    "# Get the team name who won the match by the highest runs\n",
    "team_name_max_runs = max_runs_row['winner']\n",
    "\n",
    "print(\"Team name who won the match by the highest runs:\", team_name_max_runs)"
   ]
  },
  {
   "cell_type": "markdown",
   "id": "2d20f345",
   "metadata": {},
   "source": [
    "# Question 9"
   ]
  },
  {
   "cell_type": "code",
   "execution_count": 13,
   "id": "7068f46d",
   "metadata": {},
   "outputs": [
    {
     "name": "stdout",
     "output_type": "stream",
     "text": [
      "Team name who won the match by the lowest runs: Delhi Daredevils\n"
     ]
    }
   ],
   "source": [
    "import pandas as pd\n",
    "\n",
    "# Read the CSV file into a DataFrame\n",
    "df = pd.read_csv('matches.csv')\n",
    "\n",
    "# Get the row with the lowest win by runs\n",
    "min_runs_row = df.iloc[df['win_by_runs'].idxmin()]\n",
    "\n",
    "# Get the team name who won the match by the lowest runs\n",
    "team_name_min_runs = min_runs_row['winner']\n",
    "\n",
    "print(\"Team name who won the match by the lowest runs:\", team_name_min_runs)\n"
   ]
  },
  {
   "cell_type": "markdown",
   "id": "8b77c79d",
   "metadata": {},
   "source": [
    "# Question 10"
   ]
  },
  {
   "cell_type": "code",
   "execution_count": 14,
   "id": "6c512be2",
   "metadata": {},
   "outputs": [
    {
     "name": "stdout",
     "output_type": "stream",
     "text": [
      "Players who were awarded 'Player of the match' more than 3 times: ['CH Gayle', 'AB de Villiers', 'DA Warner', 'RG Sharma', 'MS Dhoni', 'YK Pathan', 'SR Watson', 'SK Raina', 'G Gambhir', 'V Kohli', 'AM Rahane', 'MEK Hussey', 'A Mishra', 'AD Russell', 'DR Smith', 'V Sehwag', 'KA Pollard', 'JH Kallis', 'AT Rayudu', 'SP Narine', 'SE Marsh', 'UT Yadav', 'RA Jadeja', 'SR Tendulkar', 'Harbhajan Singh', 'Rashid Khan', 'RV Uthappa', 'AC Gilchrist', 'HH Pandya', 'SL Malinga', 'M Vijay', 'RR Pant', 'S Dhawan', 'A Nehra', 'BJ Hodge', 'JD Unadkat', 'DW Steyn', 'Yuvraj Singh', 'SPD Smith', 'AJ Finch', 'JP Faulkner', 'BB McCullum', 'SC Ganguly', 'Sandeep Sharma', 'JC Buttler', 'KC Sangakkara', 'JJ Bumrah', 'DPMD Jayawardene', 'B Kumar', 'SV Samson', 'PA Patel', 'GJ Maxwell', 'F du Plessis', 'KH Pandya', 'KL Rahul', 'MK Pandey', 'ML Hayden', 'KD Karthik', 'SK Warne', 'CA Lynn', 'N Rana', 'NM Coulter-Nile', 'SS Iyer', 'AR Patel', 'JP Duminy']\n"
     ]
    }
   ],
   "source": [
    "import pandas as pd\n",
    "\n",
    "# Read the CSV file into a DataFrame\n",
    "df = pd.read_csv('matches.csv')\n",
    "\n",
    "# Get the value counts of the 'man_of_match' column\n",
    "man_of_match_counts = df['player_of_match'].value_counts()\n",
    "\n",
    "# Get the players who were awarded \"Player of the match\" more than 3 times\n",
    "players_more_than_3 = man_of_match_counts[man_of_match_counts > 3].index.tolist()\n",
    "\n",
    "print(\"Players who were awarded 'Player of the match' more than 3 times:\", players_more_than_3)\n"
   ]
  },
  {
   "cell_type": "markdown",
   "id": "a4128511",
   "metadata": {},
   "source": [
    "# Question 11"
   ]
  },
  {
   "cell_type": "code",
   "execution_count": 15,
   "id": "1afff56d",
   "metadata": {},
   "outputs": [
    {
     "name": "stdout",
     "output_type": "stream",
     "text": [
      "Player who was awarded as player of the match maximum times: CH Gayle\n"
     ]
    }
   ],
   "source": [
    "import pandas as pd\n",
    "\n",
    "# Read the CSV file into a DataFrame\n",
    "df = pd.read_csv('matches.csv')\n",
    "\n",
    "# Get the value counts of the 'man_of_match' column\n",
    "man_of_match_counts = df['player_of_match'].value_counts()\n",
    "\n",
    "# Get the player who was awarded \"Player of the match\" maximum times\n",
    "player_max_times = man_of_match_counts.idxmax()\n",
    "\n",
    "print(\"Player who was awarded as player of the match maximum times:\", player_max_times)"
   ]
  },
  {
   "cell_type": "markdown",
   "id": "e0381aa6",
   "metadata": {},
   "source": [
    "# Question 12"
   ]
  },
  {
   "cell_type": "code",
   "execution_count": 16,
   "id": "848b0106",
   "metadata": {},
   "outputs": [
    {
     "name": "stdout",
     "output_type": "stream",
     "text": [
      "Venue where the team won the match by the highest runs: Feroz Shah Kotla\n"
     ]
    }
   ],
   "source": [
    "import pandas as pd\n",
    "\n",
    "# Read the CSV file into a DataFrame\n",
    "df = pd.read_csv('matches.csv')\n",
    "\n",
    "# Get the row with the highest win by runs\n",
    "max_runs_row = df.iloc[df['win_by_runs'].idxmax()]\n",
    "\n",
    "# Get the venue where the team won the match by the highest runs\n",
    "venue_max_runs = max_runs_row['venue']\n",
    "\n",
    "print(\"Venue where the team won the match by the highest runs:\", venue_max_runs)\n"
   ]
  },
  {
   "cell_type": "markdown",
   "id": "f4568348",
   "metadata": {},
   "source": [
    "# Question 13"
   ]
  },
  {
   "cell_type": "code",
   "execution_count": 18,
   "id": "c48a4057",
   "metadata": {},
   "outputs": [
    {
     "name": "stdout",
     "output_type": "stream",
     "text": [
      "Venue where the team won the match by the lowest runs: Feroz Shah Kotla\n"
     ]
    }
   ],
   "source": [
    "import pandas as pd\n",
    "\n",
    "# Read the CSV file into a DataFrame\n",
    "df = pd.read_csv('matches.csv')\n",
    "\n",
    "# Get the row with the lowest win by runs\n",
    "min_runs_row = df.iloc[df['win_by_runs'].idxmin()]\n",
    "\n",
    "# Get the venue where the team won the match by the lowest runs\n",
    "venue_min_runs = min_runs_row['venue']\n",
    "\n",
    "print(\"Venue where the team won the match by the lowest runs:\", venue_min_runs)"
   ]
  },
  {
   "cell_type": "markdown",
   "id": "d69b7492",
   "metadata": {},
   "source": [
    "# Question 14"
   ]
  },
  {
   "cell_type": "code",
   "execution_count": 20,
   "id": "955231f1",
   "metadata": {},
   "outputs": [
    {
     "name": "stdout",
     "output_type": "stream",
     "text": [
      "Umpires who did umpiring maximum times: ['S Ravi']\n"
     ]
    }
   ],
   "source": [
    "import pandas as pd\n",
    "\n",
    "# Read the CSV file into a DataFrame\n",
    "df = pd.read_csv('matches.csv')\n",
    "\n",
    "# Get the value counts of the 'umpire_1', 'umpire_2', and 'umpire_3' columns\n",
    "umpire_counts = pd.concat([df['umpire1'], df['umpire2'], df['umpire3']]).value_counts()\n",
    "\n",
    "# Get the umpires who did umpiring maximum times\n",
    "umpires_max_times = umpire_counts.index[umpire_counts == umpire_counts.max()].tolist()\n",
    "\n",
    "print(\"Umpires who did umpiring maximum times:\", umpires_max_times)\n"
   ]
  },
  {
   "cell_type": "markdown",
   "id": "b819f7df",
   "metadata": {},
   "source": [
    "# Question 15"
   ]
  },
  {
   "cell_type": "code",
   "execution_count": 21,
   "id": "c36ceb63",
   "metadata": {
    "scrolled": true
   },
   "outputs": [
    {
     "name": "stdout",
     "output_type": "stream",
     "text": [
      "Total matches played in each season:\n",
      " 2013    76\n",
      "2012    74\n",
      "2011    73\n",
      "2010    60\n",
      "2014    60\n",
      "2016    60\n",
      "2018    60\n",
      "2019    60\n",
      "2015    59\n",
      "2017    59\n",
      "2008    58\n",
      "2009    57\n",
      "Name: season, dtype: int64\n"
     ]
    }
   ],
   "source": [
    "import pandas as pd\n",
    "\n",
    "# Read the CSV file into a DataFrame\n",
    "df = pd.read_csv('matches.csv')\n",
    "\n",
    "# Get the value counts of the 'season' column\n",
    "matches_per_season = df['season'].value_counts()\n",
    "\n",
    "print(\"Total matches played in each season:\\n\", matches_per_season)"
   ]
  },
  {
   "cell_type": "markdown",
   "id": "b39fd115",
   "metadata": {},
   "source": [
    "# Question 16"
   ]
  },
  {
   "cell_type": "code",
   "execution_count": 23,
   "id": "b24e56b0",
   "metadata": {},
   "outputs": [
    {
     "name": "stdout",
     "output_type": "stream",
     "text": [
      "Total runs each season:\n",
      " season\n",
      "2008     926\n",
      "2009     944\n",
      "2010    1166\n",
      "2011    1363\n",
      "2012    1201\n",
      "2013    1468\n",
      "2014     869\n",
      "2015     998\n",
      "2016     920\n",
      "2017     992\n",
      "2018     861\n",
      "2019     867\n",
      "Name: total_runs, dtype: int64\n"
     ]
    },
    {
     "name": "stderr",
     "output_type": "stream",
     "text": [
      "C:\\Users\\sudib\\AppData\\Local\\Temp\\ipykernel_21660\\2634911249.py:7: FutureWarning: Indexing with multiple keys (implicitly converted to a tuple of keys) will be deprecated, use a list instead.\n",
      "  runs_per_season = df.groupby('season')['win_by_runs', 'win_by_wickets'].sum()\n"
     ]
    }
   ],
   "source": [
    "import pandas as pd\n",
    "\n",
    "# Read the CSV file into a DataFrame\n",
    "df = pd.read_csv('matches.csv')\n",
    "\n",
    "# Group the DataFrame by 'season' and sum the 'win_by_runs' and 'win_by_wickets' columns\n",
    "runs_per_season = df.groupby('season')['win_by_runs', 'win_by_wickets'].sum()\n",
    "\n",
    "# Create a new column 'total_runs' by adding the 'win_by_runs' and 'win_by_wickets' columns\n",
    "runs_per_season['total_runs'] = runs_per_season['win_by_runs'] + runs_per_season['win_by_wickets']\n",
    "\n",
    "print(\"Total runs each season:\\n\", runs_per_season['total_runs'])\n"
   ]
  },
  {
   "cell_type": "markdown",
   "id": "3316754f",
   "metadata": {},
   "source": [
    "# Question 17"
   ]
  },
  {
   "cell_type": "code",
   "execution_count": 24,
   "id": "89ea35ed",
   "metadata": {
    "scrolled": false
   },
   "outputs": [
    {
     "name": "stdout",
     "output_type": "stream",
     "text": [
      "Number of tosses won by each team:\n",
      " Mumbai Indians                 98\n",
      "Kolkata Knight Riders          92\n",
      "Chennai Super Kings            89\n",
      "Royal Challengers Bangalore    81\n",
      "Kings XI Punjab                81\n",
      "Rajasthan Royals               80\n",
      "Delhi Daredevils               80\n",
      "Sunrisers Hyderabad            46\n",
      "Deccan Chargers                43\n",
      "Pune Warriors                  20\n",
      "Gujarat Lions                  15\n",
      "Delhi Capitals                 10\n",
      "Kochi Tuskers Kerala            8\n",
      "Rising Pune Supergiants         7\n",
      "Rising Pune Supergiant          6\n",
      "Name: toss_winner, dtype: int64\n"
     ]
    }
   ],
   "source": [
    "import pandas as pd\n",
    "\n",
    "# Read the CSV file into a DataFrame\n",
    "df = pd.read_csv('matches.csv')\n",
    "\n",
    "# Get the value counts of the 'toss_winner' column\n",
    "toss_wins = df['toss_winner'].value_counts()\n",
    "\n",
    "print(\"Number of tosses won by each team:\\n\", toss_wins)\n"
   ]
  },
  {
   "cell_type": "markdown",
   "id": "82ba1b70",
   "metadata": {},
   "source": [
    "# Question 18"
   ]
  },
  {
   "cell_type": "code",
   "execution_count": 26,
   "id": "7c4eb36f",
   "metadata": {
    "scrolled": true
   },
   "outputs": [
    {
     "ename": "KeyError",
     "evalue": "'toss_decision'",
     "output_type": "error",
     "traceback": [
      "\u001b[1;31m---------------------------------------------------------------------------\u001b[0m",
      "\u001b[1;31mKeyError\u001b[0m                                  Traceback (most recent call last)",
      "\u001b[1;32m~\\anaconda3\\lib\\site-packages\\pandas\\core\\indexes\\base.py\u001b[0m in \u001b[0;36mget_loc\u001b[1;34m(self, key, method, tolerance)\u001b[0m\n\u001b[0;32m   3628\u001b[0m             \u001b[1;32mtry\u001b[0m\u001b[1;33m:\u001b[0m\u001b[1;33m\u001b[0m\u001b[1;33m\u001b[0m\u001b[0m\n\u001b[1;32m-> 3629\u001b[1;33m                 \u001b[1;32mreturn\u001b[0m \u001b[0mself\u001b[0m\u001b[1;33m.\u001b[0m\u001b[0m_engine\u001b[0m\u001b[1;33m.\u001b[0m\u001b[0mget_loc\u001b[0m\u001b[1;33m(\u001b[0m\u001b[0mcasted_key\u001b[0m\u001b[1;33m)\u001b[0m\u001b[1;33m\u001b[0m\u001b[1;33m\u001b[0m\u001b[0m\n\u001b[0m\u001b[0;32m   3630\u001b[0m             \u001b[1;32mexcept\u001b[0m \u001b[0mKeyError\u001b[0m \u001b[1;32mas\u001b[0m \u001b[0merr\u001b[0m\u001b[1;33m:\u001b[0m\u001b[1;33m\u001b[0m\u001b[1;33m\u001b[0m\u001b[0m\n",
      "\u001b[1;32m~\\anaconda3\\lib\\site-packages\\pandas\\_libs\\index.pyx\u001b[0m in \u001b[0;36mpandas._libs.index.IndexEngine.get_loc\u001b[1;34m()\u001b[0m\n",
      "\u001b[1;32m~\\anaconda3\\lib\\site-packages\\pandas\\_libs\\index.pyx\u001b[0m in \u001b[0;36mpandas._libs.index.IndexEngine.get_loc\u001b[1;34m()\u001b[0m\n",
      "\u001b[1;32mpandas\\_libs\\hashtable_class_helper.pxi\u001b[0m in \u001b[0;36mpandas._libs.hashtable.PyObjectHashTable.get_item\u001b[1;34m()\u001b[0m\n",
      "\u001b[1;32mpandas\\_libs\\hashtable_class_helper.pxi\u001b[0m in \u001b[0;36mpandas._libs.hashtable.PyObjectHashTable.get_item\u001b[1;34m()\u001b[0m\n",
      "\u001b[1;31mKeyError\u001b[0m: 'toss_decision'",
      "\nThe above exception was the direct cause of the following exception:\n",
      "\u001b[1;31mKeyError\u001b[0m                                  Traceback (most recent call last)",
      "\u001b[1;32m~\\AppData\\Local\\Temp\\ipykernel_21660\\4245962527.py\u001b[0m in \u001b[0;36m<module>\u001b[1;34m\u001b[0m\n\u001b[0;32m     22\u001b[0m \u001b[1;33m\u001b[0m\u001b[0m\n\u001b[0;32m     23\u001b[0m \u001b[1;31m# Plot the data\u001b[0m\u001b[1;33m\u001b[0m\u001b[1;33m\u001b[0m\u001b[0m\n\u001b[1;32m---> 24\u001b[1;33m \u001b[0mtoss_decision\u001b[0m\u001b[1;33m[\u001b[0m\u001b[0mtoss_decision\u001b[0m\u001b[1;33m[\u001b[0m\u001b[1;34m'toss_decision'\u001b[0m\u001b[1;33m]\u001b[0m\u001b[1;33m==\u001b[0m\u001b[1;34m'bat'\u001b[0m\u001b[1;33m]\u001b[0m\u001b[1;33m.\u001b[0m\u001b[0mgroupby\u001b[0m\u001b[1;33m(\u001b[0m\u001b[1;34m'toss_winner'\u001b[0m\u001b[1;33m)\u001b[0m\u001b[1;33m[\u001b[0m\u001b[1;34m'id'\u001b[0m\u001b[1;33m]\u001b[0m\u001b[1;33m.\u001b[0m\u001b[0mplot\u001b[0m\u001b[1;33m(\u001b[0m\u001b[0mx\u001b[0m\u001b[1;33m=\u001b[0m\u001b[1;34m'season'\u001b[0m\u001b[1;33m,\u001b[0m \u001b[0my\u001b[0m\u001b[1;33m=\u001b[0m\u001b[1;34m'id'\u001b[0m\u001b[1;33m,\u001b[0m \u001b[0max\u001b[0m\u001b[1;33m=\u001b[0m\u001b[0max\u001b[0m\u001b[1;33m[\u001b[0m\u001b[1;36m0\u001b[0m\u001b[1;33m]\u001b[0m\u001b[1;33m,\u001b[0m \u001b[0mlegend\u001b[0m\u001b[1;33m=\u001b[0m\u001b[1;32mTrue\u001b[0m\u001b[1;33m,\u001b[0m \u001b[0mlabel\u001b[0m\u001b[1;33m=\u001b[0m\u001b[1;34m'Bat'\u001b[0m\u001b[1;33m)\u001b[0m\u001b[1;33m\u001b[0m\u001b[1;33m\u001b[0m\u001b[0m\n\u001b[0m\u001b[0;32m     25\u001b[0m \u001b[0mtoss_decision\u001b[0m\u001b[1;33m[\u001b[0m\u001b[0mtoss_decision\u001b[0m\u001b[1;33m[\u001b[0m\u001b[1;34m'toss_decision'\u001b[0m\u001b[1;33m]\u001b[0m\u001b[1;33m==\u001b[0m\u001b[1;34m'field'\u001b[0m\u001b[1;33m]\u001b[0m\u001b[1;33m.\u001b[0m\u001b[0mgroupby\u001b[0m\u001b[1;33m(\u001b[0m\u001b[1;34m'toss_winner'\u001b[0m\u001b[1;33m)\u001b[0m\u001b[1;33m[\u001b[0m\u001b[1;34m'id'\u001b[0m\u001b[1;33m]\u001b[0m\u001b[1;33m.\u001b[0m\u001b[0mplot\u001b[0m\u001b[1;33m(\u001b[0m\u001b[0mx\u001b[0m\u001b[1;33m=\u001b[0m\u001b[1;34m'season'\u001b[0m\u001b[1;33m,\u001b[0m \u001b[0my\u001b[0m\u001b[1;33m=\u001b[0m\u001b[1;34m'id'\u001b[0m\u001b[1;33m,\u001b[0m \u001b[0max\u001b[0m\u001b[1;33m=\u001b[0m\u001b[0max\u001b[0m\u001b[1;33m[\u001b[0m\u001b[1;36m1\u001b[0m\u001b[1;33m]\u001b[0m\u001b[1;33m,\u001b[0m \u001b[0mlegend\u001b[0m\u001b[1;33m=\u001b[0m\u001b[1;32mTrue\u001b[0m\u001b[1;33m,\u001b[0m \u001b[0mlabel\u001b[0m\u001b[1;33m=\u001b[0m\u001b[1;34m'Field'\u001b[0m\u001b[1;33m)\u001b[0m\u001b[1;33m\u001b[0m\u001b[1;33m\u001b[0m\u001b[0m\n\u001b[0;32m     26\u001b[0m \u001b[1;33m\u001b[0m\u001b[0m\n",
      "\u001b[1;32m~\\anaconda3\\lib\\site-packages\\pandas\\core\\frame.py\u001b[0m in \u001b[0;36m__getitem__\u001b[1;34m(self, key)\u001b[0m\n\u001b[0;32m   3502\u001b[0m         \u001b[1;32mif\u001b[0m \u001b[0mis_single_key\u001b[0m\u001b[1;33m:\u001b[0m\u001b[1;33m\u001b[0m\u001b[1;33m\u001b[0m\u001b[0m\n\u001b[0;32m   3503\u001b[0m             \u001b[1;32mif\u001b[0m \u001b[0mself\u001b[0m\u001b[1;33m.\u001b[0m\u001b[0mcolumns\u001b[0m\u001b[1;33m.\u001b[0m\u001b[0mnlevels\u001b[0m \u001b[1;33m>\u001b[0m \u001b[1;36m1\u001b[0m\u001b[1;33m:\u001b[0m\u001b[1;33m\u001b[0m\u001b[1;33m\u001b[0m\u001b[0m\n\u001b[1;32m-> 3504\u001b[1;33m                 \u001b[1;32mreturn\u001b[0m \u001b[0mself\u001b[0m\u001b[1;33m.\u001b[0m\u001b[0m_getitem_multilevel\u001b[0m\u001b[1;33m(\u001b[0m\u001b[0mkey\u001b[0m\u001b[1;33m)\u001b[0m\u001b[1;33m\u001b[0m\u001b[1;33m\u001b[0m\u001b[0m\n\u001b[0m\u001b[0;32m   3505\u001b[0m             \u001b[0mindexer\u001b[0m \u001b[1;33m=\u001b[0m \u001b[0mself\u001b[0m\u001b[1;33m.\u001b[0m\u001b[0mcolumns\u001b[0m\u001b[1;33m.\u001b[0m\u001b[0mget_loc\u001b[0m\u001b[1;33m(\u001b[0m\u001b[0mkey\u001b[0m\u001b[1;33m)\u001b[0m\u001b[1;33m\u001b[0m\u001b[1;33m\u001b[0m\u001b[0m\n\u001b[0;32m   3506\u001b[0m             \u001b[1;32mif\u001b[0m \u001b[0mis_integer\u001b[0m\u001b[1;33m(\u001b[0m\u001b[0mindexer\u001b[0m\u001b[1;33m)\u001b[0m\u001b[1;33m:\u001b[0m\u001b[1;33m\u001b[0m\u001b[1;33m\u001b[0m\u001b[0m\n",
      "\u001b[1;32m~\\anaconda3\\lib\\site-packages\\pandas\\core\\frame.py\u001b[0m in \u001b[0;36m_getitem_multilevel\u001b[1;34m(self, key)\u001b[0m\n\u001b[0;32m   3553\u001b[0m     \u001b[1;32mdef\u001b[0m \u001b[0m_getitem_multilevel\u001b[0m\u001b[1;33m(\u001b[0m\u001b[0mself\u001b[0m\u001b[1;33m,\u001b[0m \u001b[0mkey\u001b[0m\u001b[1;33m)\u001b[0m\u001b[1;33m:\u001b[0m\u001b[1;33m\u001b[0m\u001b[1;33m\u001b[0m\u001b[0m\n\u001b[0;32m   3554\u001b[0m         \u001b[1;31m# self.columns is a MultiIndex\u001b[0m\u001b[1;33m\u001b[0m\u001b[1;33m\u001b[0m\u001b[0m\n\u001b[1;32m-> 3555\u001b[1;33m         \u001b[0mloc\u001b[0m \u001b[1;33m=\u001b[0m \u001b[0mself\u001b[0m\u001b[1;33m.\u001b[0m\u001b[0mcolumns\u001b[0m\u001b[1;33m.\u001b[0m\u001b[0mget_loc\u001b[0m\u001b[1;33m(\u001b[0m\u001b[0mkey\u001b[0m\u001b[1;33m)\u001b[0m\u001b[1;33m\u001b[0m\u001b[1;33m\u001b[0m\u001b[0m\n\u001b[0m\u001b[0;32m   3556\u001b[0m         \u001b[1;32mif\u001b[0m \u001b[0misinstance\u001b[0m\u001b[1;33m(\u001b[0m\u001b[0mloc\u001b[0m\u001b[1;33m,\u001b[0m \u001b[1;33m(\u001b[0m\u001b[0mslice\u001b[0m\u001b[1;33m,\u001b[0m \u001b[0mnp\u001b[0m\u001b[1;33m.\u001b[0m\u001b[0mndarray\u001b[0m\u001b[1;33m)\u001b[0m\u001b[1;33m)\u001b[0m\u001b[1;33m:\u001b[0m\u001b[1;33m\u001b[0m\u001b[1;33m\u001b[0m\u001b[0m\n\u001b[0;32m   3557\u001b[0m             \u001b[0mnew_columns\u001b[0m \u001b[1;33m=\u001b[0m \u001b[0mself\u001b[0m\u001b[1;33m.\u001b[0m\u001b[0mcolumns\u001b[0m\u001b[1;33m[\u001b[0m\u001b[0mloc\u001b[0m\u001b[1;33m]\u001b[0m\u001b[1;33m\u001b[0m\u001b[1;33m\u001b[0m\u001b[0m\n",
      "\u001b[1;32m~\\anaconda3\\lib\\site-packages\\pandas\\core\\indexes\\multi.py\u001b[0m in \u001b[0;36mget_loc\u001b[1;34m(self, key, method)\u001b[0m\n\u001b[0;32m   2867\u001b[0m \u001b[1;33m\u001b[0m\u001b[0m\n\u001b[0;32m   2868\u001b[0m         \u001b[1;32mif\u001b[0m \u001b[1;32mnot\u001b[0m \u001b[0misinstance\u001b[0m\u001b[1;33m(\u001b[0m\u001b[0mkey\u001b[0m\u001b[1;33m,\u001b[0m \u001b[0mtuple\u001b[0m\u001b[1;33m)\u001b[0m\u001b[1;33m:\u001b[0m\u001b[1;33m\u001b[0m\u001b[1;33m\u001b[0m\u001b[0m\n\u001b[1;32m-> 2869\u001b[1;33m             \u001b[0mloc\u001b[0m \u001b[1;33m=\u001b[0m \u001b[0mself\u001b[0m\u001b[1;33m.\u001b[0m\u001b[0m_get_level_indexer\u001b[0m\u001b[1;33m(\u001b[0m\u001b[0mkey\u001b[0m\u001b[1;33m,\u001b[0m \u001b[0mlevel\u001b[0m\u001b[1;33m=\u001b[0m\u001b[1;36m0\u001b[0m\u001b[1;33m)\u001b[0m\u001b[1;33m\u001b[0m\u001b[1;33m\u001b[0m\u001b[0m\n\u001b[0m\u001b[0;32m   2870\u001b[0m             \u001b[1;32mreturn\u001b[0m \u001b[0m_maybe_to_slice\u001b[0m\u001b[1;33m(\u001b[0m\u001b[0mloc\u001b[0m\u001b[1;33m)\u001b[0m\u001b[1;33m\u001b[0m\u001b[1;33m\u001b[0m\u001b[0m\n\u001b[0;32m   2871\u001b[0m \u001b[1;33m\u001b[0m\u001b[0m\n",
      "\u001b[1;32m~\\anaconda3\\lib\\site-packages\\pandas\\core\\indexes\\multi.py\u001b[0m in \u001b[0;36m_get_level_indexer\u001b[1;34m(self, key, level, indexer)\u001b[0m\n\u001b[0;32m   3220\u001b[0m         \u001b[1;32melse\u001b[0m\u001b[1;33m:\u001b[0m\u001b[1;33m\u001b[0m\u001b[1;33m\u001b[0m\u001b[0m\n\u001b[0;32m   3221\u001b[0m \u001b[1;33m\u001b[0m\u001b[0m\n\u001b[1;32m-> 3222\u001b[1;33m             \u001b[0midx\u001b[0m \u001b[1;33m=\u001b[0m \u001b[0mself\u001b[0m\u001b[1;33m.\u001b[0m\u001b[0m_get_loc_single_level_index\u001b[0m\u001b[1;33m(\u001b[0m\u001b[0mlevel_index\u001b[0m\u001b[1;33m,\u001b[0m \u001b[0mkey\u001b[0m\u001b[1;33m)\u001b[0m\u001b[1;33m\u001b[0m\u001b[1;33m\u001b[0m\u001b[0m\n\u001b[0m\u001b[0;32m   3223\u001b[0m \u001b[1;33m\u001b[0m\u001b[0m\n\u001b[0;32m   3224\u001b[0m             \u001b[1;32mif\u001b[0m \u001b[0mlevel\u001b[0m \u001b[1;33m>\u001b[0m \u001b[1;36m0\u001b[0m \u001b[1;32mor\u001b[0m \u001b[0mself\u001b[0m\u001b[1;33m.\u001b[0m\u001b[0m_lexsort_depth\u001b[0m \u001b[1;33m==\u001b[0m \u001b[1;36m0\u001b[0m\u001b[1;33m:\u001b[0m\u001b[1;33m\u001b[0m\u001b[1;33m\u001b[0m\u001b[0m\n",
      "\u001b[1;32m~\\anaconda3\\lib\\site-packages\\pandas\\core\\indexes\\multi.py\u001b[0m in \u001b[0;36m_get_loc_single_level_index\u001b[1;34m(self, level_index, key)\u001b[0m\n\u001b[0;32m   2800\u001b[0m             \u001b[1;32mreturn\u001b[0m \u001b[1;33m-\u001b[0m\u001b[1;36m1\u001b[0m\u001b[1;33m\u001b[0m\u001b[1;33m\u001b[0m\u001b[0m\n\u001b[0;32m   2801\u001b[0m         \u001b[1;32melse\u001b[0m\u001b[1;33m:\u001b[0m\u001b[1;33m\u001b[0m\u001b[1;33m\u001b[0m\u001b[0m\n\u001b[1;32m-> 2802\u001b[1;33m             \u001b[1;32mreturn\u001b[0m \u001b[0mlevel_index\u001b[0m\u001b[1;33m.\u001b[0m\u001b[0mget_loc\u001b[0m\u001b[1;33m(\u001b[0m\u001b[0mkey\u001b[0m\u001b[1;33m)\u001b[0m\u001b[1;33m\u001b[0m\u001b[1;33m\u001b[0m\u001b[0m\n\u001b[0m\u001b[0;32m   2803\u001b[0m \u001b[1;33m\u001b[0m\u001b[0m\n\u001b[0;32m   2804\u001b[0m     \u001b[1;32mdef\u001b[0m \u001b[0mget_loc\u001b[0m\u001b[1;33m(\u001b[0m\u001b[0mself\u001b[0m\u001b[1;33m,\u001b[0m \u001b[0mkey\u001b[0m\u001b[1;33m,\u001b[0m \u001b[0mmethod\u001b[0m\u001b[1;33m=\u001b[0m\u001b[1;32mNone\u001b[0m\u001b[1;33m)\u001b[0m\u001b[1;33m:\u001b[0m\u001b[1;33m\u001b[0m\u001b[1;33m\u001b[0m\u001b[0m\n",
      "\u001b[1;32m~\\anaconda3\\lib\\site-packages\\pandas\\core\\indexes\\base.py\u001b[0m in \u001b[0;36mget_loc\u001b[1;34m(self, key, method, tolerance)\u001b[0m\n\u001b[0;32m   3629\u001b[0m                 \u001b[1;32mreturn\u001b[0m \u001b[0mself\u001b[0m\u001b[1;33m.\u001b[0m\u001b[0m_engine\u001b[0m\u001b[1;33m.\u001b[0m\u001b[0mget_loc\u001b[0m\u001b[1;33m(\u001b[0m\u001b[0mcasted_key\u001b[0m\u001b[1;33m)\u001b[0m\u001b[1;33m\u001b[0m\u001b[1;33m\u001b[0m\u001b[0m\n\u001b[0;32m   3630\u001b[0m             \u001b[1;32mexcept\u001b[0m \u001b[0mKeyError\u001b[0m \u001b[1;32mas\u001b[0m \u001b[0merr\u001b[0m\u001b[1;33m:\u001b[0m\u001b[1;33m\u001b[0m\u001b[1;33m\u001b[0m\u001b[0m\n\u001b[1;32m-> 3631\u001b[1;33m                 \u001b[1;32mraise\u001b[0m \u001b[0mKeyError\u001b[0m\u001b[1;33m(\u001b[0m\u001b[0mkey\u001b[0m\u001b[1;33m)\u001b[0m \u001b[1;32mfrom\u001b[0m \u001b[0merr\u001b[0m\u001b[1;33m\u001b[0m\u001b[1;33m\u001b[0m\u001b[0m\n\u001b[0m\u001b[0;32m   3632\u001b[0m             \u001b[1;32mexcept\u001b[0m \u001b[0mTypeError\u001b[0m\u001b[1;33m:\u001b[0m\u001b[1;33m\u001b[0m\u001b[1;33m\u001b[0m\u001b[0m\n\u001b[0;32m   3633\u001b[0m                 \u001b[1;31m# If we have a listlike key, _check_indexing_error will raise\u001b[0m\u001b[1;33m\u001b[0m\u001b[1;33m\u001b[0m\u001b[0m\n",
      "\u001b[1;31mKeyError\u001b[0m: 'toss_decision'"
     ]
    },
    {
     "data": {
      "image/png": "[encoded data removed]",
      "text/plain": [
       "<Figure size 1400x600 with 2 Axes>"
      ]
     },
     "metadata": {},
     "output_type": "display_data"
    }
   ],
   "source": [
    "import pandas as pd\n",
    "import matplotlib.pyplot as plt\n",
    "\n",
    "# Read the CSV file into a DataFrame\n",
    "df = pd.read_csv('matches.csv')\n",
    "\n",
    "# Create a pivot table to count the number of times each team chose each toss decision in each season\n",
    "toss_decision = pd.pivot_table(df, index=['season', 'toss_winner'], columns=['toss_decision'], values=['id'], aggfunc='count')\n",
    "\n",
    "# Reset the index of the pivot table\n",
    "toss_decision = toss_decision.reset_index()\n",
    "\n",
    "# Set the style of the plot\n",
    "plt.style.use('ggplot')\n",
    "\n",
    "# Create a figure and axis objects\n",
    "fig, ax = plt.subplots(nrows=1, ncols=2, figsize=(14,6))\n",
    "\n",
    "# Set the x-axis limits\n",
    "ax[0].set_xlim([2008, 2021])\n",
    "ax[1].set_xlim([2008, 2021])\n",
    "\n",
    "# Plot the data\n",
    "toss_decision[toss_decision['toss_decision']=='bat'].groupby('toss_winner')['id'].plot(x='season', y='id', ax=ax[0], legend=True, label='Bat')\n",
    "toss_decision[toss_decision['toss_decision']=='field'].groupby('toss_winner')['id'].plot(x='season', y='id', ax=ax[1], legend=True, label='Field')\n",
    "\n",
    "# Set the titles and axis labels\n",
    "ax[0].set_title('Toss Decision - Bat', fontsize=16)\n",
    "ax[1].set_title('Toss Decision - Field', fontsize=16)\n",
    "ax[0].set_xlabel('Season')\n",
    "ax[1].set_xlabel('Season')\n",
    "ax[0].set_ylabel('Number of Tosses')\n",
    "ax[1].set_ylabel('Number of Tosses')\n",
    "\n",
    "# Show the plot\n",
    "plt.show()\n"
   ]
  },
  {
   "cell_type": "markdown",
   "id": "c4ea2086",
   "metadata": {},
   "source": [
    "# Question 19"
   ]
  },
  {
   "cell_type": "code",
   "execution_count": null,
   "id": "02283ea2",
   "metadata": {},
   "outputs": [],
   "source": []
  }
 ],
 "metadata": {
  "kernelspec": {
   "display_name": "Python 3 (ipykernel)",
   "language": "python",
   "name": "python3"
  },
  "language_info": {
   "codemirror_mode": {
    "name": "ipython",
    "version": 3
   },
   "file_extension": ".py",
   "mimetype": "text/x-python",
   "name": "python",
   "nbconvert_exporter": "python",
   "pygments_lexer": "ipython3",
   "version": "3.9.13"
  }
 },
 "nbformat": 4,
 "nbformat_minor": 5
}
